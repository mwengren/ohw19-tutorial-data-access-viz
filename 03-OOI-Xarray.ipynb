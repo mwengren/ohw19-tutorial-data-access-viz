{
 "cells": [
  {
   "cell_type": "markdown",
   "metadata": {},
   "source": [
    "# Ocean Observatories Initiative (OOI) Data"
   ]
  },
  {
   "cell_type": "markdown",
   "metadata": {},
   "source": [
    "<img src=\"CEV-OOI-Cabled-Array.jpg\" alt=\"Drawing\" style=\"width: 600px;\"/>"
   ]
  },
  {
   "cell_type": "markdown",
   "metadata": {},
   "source": [
    "## Obtaining OOI Data\n",
    "\n",
    "  - Data Portal\n",
    "  - M2M\n",
    "  - [Raw Data Server](https://rawdata.oceanobservatories.org/files/RS03ASHS/PN03B/06-CAMHDA301/) (CamHD Video Data)\n",
    "  - IRIS (seismic data)\n",
    "  - ERDDAP\n",
    "  - [Xarray and Zarr on AWS S3](https://io2data.s3.us-west-2.amazonaws.com/index.html#data/) (unofficial profiler data demo)\n",
    "  - Others coming soon!"
   ]
  },
  {
   "cell_type": "markdown",
   "metadata": {},
   "source": [
    "## Xarray and Zarr on AWS S3\n",
    "  - Demonstration subset of OOI profiler data  \n",
    "  - Stored as Zarr in a cloud-performant object store  \n",
    "  - Hopefully most or all of OOI data will be stored like this in the near future  \n",
    "  - [OOI Data Team Inspector](https://ooi-visualocean.whoi.edu/regions/view/RS)  \n",
    "  - [AWS Store Browser](https://io2data.s3.us-west-2.amazonaws.com/index.html#data/)\n",
    "  \n",
    "### Learning Objectives\n",
    "\n",
    "  - Open zarr groups from Amazon S3\n",
    "  - Use Dask delayed functions to speed up data access\n",
    "  - Resample data using Xarray\n",
    "  - Plot using hvplot"
   ]
  },
  {
   "cell_type": "markdown",
   "metadata": {},
   "source": [
    "### Loading Data"
   ]
  },
  {
   "cell_type": "markdown",
   "metadata": {},
   "source": [
    "#### Start Dask Cluster\n",
    "  - Settings > Auto-Start Dask\n",
    "  - Use the new button!"
   ]
  },
  {
   "cell_type": "markdown",
   "metadata": {},
   "source": [
    "#### Build function for Dask delayed"
   ]
  },
  {
   "cell_type": "code",
   "execution_count": 12,
   "metadata": {},
   "outputs": [
    {
     "data": {
      "text/html": [
       "<table style=\"border: 2px solid white;\">\n",
       "<tr>\n",
       "<td style=\"vertical-align: top; border: 0px solid white\">\n",
       "<h3 style=\"text-align: left;\">Client</h3>\n",
       "<ul style=\"text-align: left; list-style: none; margin: 0; padding: 0;\">\n",
       "  <li><b>Scheduler: </b>tcp://10.32.26.18:44371</li>\n",
       "  <li><b>Dashboard: </b><a href='/user/0000-0002-1086-2793/proxy/8787/status' target='_blank'>/user/0000-0002-1086-2793/proxy/8787/status</a>\n",
       "</ul>\n",
       "</td>\n",
       "<td style=\"vertical-align: top; border: 0px solid white\">\n",
       "<h3 style=\"text-align: left;\">Cluster</h3>\n",
       "<ul style=\"text-align: left; list-style:none; margin: 0; padding: 0;\">\n",
       "  <li><b>Workers: </b>1</li>\n",
       "  <li><b>Cores: </b>2</li>\n",
       "  <li><b>Memory: </b>11.50 GB</li>\n",
       "</ul>\n",
       "</td>\n",
       "</tr>\n",
       "</table>"
      ],
      "text/plain": [
       "<Client: scheduler='tcp://10.32.26.18:44371' processes=1 cores=2>"
      ]
     },
     "execution_count": 12,
     "metadata": {},
     "output_type": "execute_result"
    }
   ],
   "source": [
    "from dask.distributed import Client\n",
    "\n",
    "client = Client(\"tcp://10.32.26.18:44371\")\n",
    "client\n"
   ]
  },
  {
   "cell_type": "code",
   "execution_count": 11,
   "metadata": {},
   "outputs": [
    {
     "ename": "AttributeError",
     "evalue": "'Client' object has no attribute 'scale'",
     "output_type": "error",
     "traceback": [
      "\u001b[0;31m---------------------------------------------------------------------------\u001b[0m",
      "\u001b[0;31mAttributeError\u001b[0m                            Traceback (most recent call last)",
      "\u001b[0;32m<ipython-input-11-045245f4a1c8>\u001b[0m in \u001b[0;36m<module>\u001b[0;34m\u001b[0m\n\u001b[1;32m      1\u001b[0m \u001b[0;31m#c = Client(cluster)\u001b[0m\u001b[0;34m\u001b[0m\u001b[0;34m\u001b[0m\u001b[0;34m\u001b[0m\u001b[0m\n\u001b[0;32m----> 2\u001b[0;31m \u001b[0mclient\u001b[0m\u001b[0;34m.\u001b[0m\u001b[0mscale\u001b[0m\u001b[0;34m(\u001b[0m\u001b[0;36m8\u001b[0m\u001b[0;34m)\u001b[0m\u001b[0;34m\u001b[0m\u001b[0;34m\u001b[0m\u001b[0m\n\u001b[0m",
      "\u001b[0;31mAttributeError\u001b[0m: 'Client' object has no attribute 'scale'"
     ]
    }
   ],
   "source": [
    "#c = Client(cluster)\n",
    "client.scale(8)"
   ]
  },
  {
   "cell_type": "code",
   "execution_count": null,
   "metadata": {},
   "outputs": [],
   "source": [
    "import s3fs\n",
    "import xarray as xr"
   ]
  },
  {
   "cell_type": "code",
   "execution_count": null,
   "metadata": {},
   "outputs": [],
   "source": [
    "# function to open a zarr group on S3\n",
    "def open_zarr_group(zarr_group):\n",
    "    s3 = s3fs.S3FileSystem(anon=True)\n",
    "    try:\n",
    "        return xr.open_zarr(store=s3fs.S3Map(zarr_group, s3=s3), consolidated=True)\n",
    "    except:\n",
    "        return None"
   ]
  },
  {
   "cell_type": "markdown",
   "metadata": {},
   "source": [
    "#### Create list of Delayed objects"
   ]
  },
  {
   "cell_type": "code",
   "execution_count": null,
   "metadata": {},
   "outputs": [],
   "source": [
    "import datetime\n",
    "from dask import delayed"
   ]
  },
  {
   "cell_type": "code",
   "execution_count": null,
   "metadata": {},
   "outputs": [],
   "source": [
    "# zarr group base and start date\n",
    "zarr_group_base = 'io2data/data/RS01SBPS-SF01A-2A-CTDPFA102-streamed-ctdpf_sbe43_sample/'\n",
    "dt_start = datetime.date(year = 2019, month = 1, day = 1)\n",
    "\n",
    "# loop and create list of Dask delayed objects\n",
    "dsets_raw = []\n",
    "num_days = 180\n",
    "for i in range(num_days):\n",
    "    dt = dt_start + datetime.timedelta(days=i)\n",
    "    dt_str = dt.strftime(\"%Y%m%d\")\n",
    "    zarr_group = zarr_group_base + dt_str\n",
    "    dsets_raw.append(delayed(open_zarr_group)(zarr_group))"
   ]
  },
  {
   "cell_type": "markdown",
   "metadata": {},
   "source": [
    "#### Run delayed functions on the Dask cluster"
   ]
  },
  {
   "cell_type": "code",
   "execution_count": null,
   "metadata": {},
   "outputs": [],
   "source": [
    "from dask import compute"
   ]
  },
  {
   "cell_type": "code",
   "execution_count": null,
   "metadata": {},
   "outputs": [],
   "source": [
    "%%time\n",
    "dsets_raw = compute(*dsets_raw)"
   ]
  },
  {
   "cell_type": "markdown",
   "metadata": {},
   "source": [
    "#### Remove \"None\" Objects, Concatenate, and Clean Up "
   ]
  },
  {
   "cell_type": "code",
   "execution_count": null,
   "metadata": {},
   "outputs": [],
   "source": [
    "dsets = []\n",
    "for dset_raw in dsets_raw:\n",
    "    if dset_raw != None:\n",
    "        dsets.append(dset_raw)\n",
    "len(dsets)"
   ]
  },
  {
   "cell_type": "code",
   "execution_count": null,
   "metadata": {},
   "outputs": [],
   "source": [
    "ds = xr.concat(dsets, dim='time')\n",
    "ds"
   ]
  },
  {
   "cell_type": "code",
   "execution_count": null,
   "metadata": {},
   "outputs": [],
   "source": [
    "ds = ds.reset_coords('seawater_pressure')\n",
    "ds"
   ]
  },
  {
   "cell_type": "code",
   "execution_count": null,
   "metadata": {},
   "outputs": [],
   "source": [
    "print('Dataset size: ~' + str(round(ds.nbytes/1024/1024)) + ' MB')"
   ]
  },
  {
   "cell_type": "markdown",
   "metadata": {},
   "source": [
    "### Resample Data"
   ]
  },
  {
   "cell_type": "code",
   "execution_count": null,
   "metadata": {},
   "outputs": [],
   "source": [
    "resampling_period = '4min'\n",
    "variables = ['time', 'seawater_pressure', 'corrected_dissolved_oxygen']\n",
    "ds_resampled = ds[variables].resample(time=resampling_period).mean().load()"
   ]
  },
  {
   "cell_type": "markdown",
   "metadata": {},
   "source": [
    "### Plot Using Hvplot"
   ]
  },
  {
   "cell_type": "code",
   "execution_count": null,
   "metadata": {},
   "outputs": [],
   "source": [
    "import hvplot.pandas"
   ]
  },
  {
   "cell_type": "code",
   "execution_count": null,
   "metadata": {},
   "outputs": [],
   "source": [
    "df = ds_resampled.to_dataframe()\n",
    "#df = ds[variables].to_dataframe()\n",
    "df.reset_index(inplace=True)\n",
    "df.head()"
   ]
  },
  {
   "cell_type": "code",
   "execution_count": null,
   "metadata": {},
   "outputs": [],
   "source": [
    "df.hvplot.scatter('time', 'seawater_pressure', c='corrected_dissolved_oxygen',\n",
    "                  cmap='viridis', size=60, colorbar=True, flip_yaxis=True,\n",
    "                 ylim=(0, 200))"
   ]
  },
  {
   "cell_type": "markdown",
   "metadata": {},
   "source": [
    "## Additional Resources\n",
    "\n",
    "*From: @friedrichknuth*  \n",
    "[Real-time plotting with M2M](https://github.com/friedrichknuth/ooi_axial_realtime_profiler) (click binder link)  \n",
    "[Scatter plotting DO using M2M](https://github.com/ooi-data-review/ooi_datateam_notebooks/blob/master/notebooks/data_access_and_plotting/basic/netcdf_data/depth_scatter.ipynb)  \n",
    "https://github.com/ooi-data-review/2018-data-workshops  \n",
    "https://github.com/friedrichknuth/ooi_data_analysis"
   ]
  }
 ],
 "metadata": {
  "kernelspec": {
   "display_name": "Python 3",
   "language": "python",
   "name": "python3"
  },
  "language_info": {
   "codemirror_mode": {
    "name": "ipython",
    "version": 3
   },
   "file_extension": ".py",
   "mimetype": "text/x-python",
   "name": "python",
   "nbconvert_exporter": "python",
   "pygments_lexer": "ipython3",
   "version": "3.7.3"
  }
 },
 "nbformat": 4,
 "nbformat_minor": 4
}
